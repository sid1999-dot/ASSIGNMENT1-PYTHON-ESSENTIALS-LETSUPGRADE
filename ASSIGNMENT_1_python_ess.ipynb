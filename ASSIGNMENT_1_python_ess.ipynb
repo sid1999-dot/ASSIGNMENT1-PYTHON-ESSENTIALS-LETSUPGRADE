{
  "nbformat": 4,
  "nbformat_minor": 0,
  "metadata": {
    "colab": {
      "name": "ASSIGNMENT 1 python ess.ipynb",
      "provenance": [],
      "collapsed_sections": []
    },
    "kernelspec": {
      "name": "python3",
      "display_name": "Python 3"
    }
  },
  "cells": [
    {
      "cell_type": "code",
      "metadata": {
        "id": "QOpk5RizAWEk"
      },
      "source": [
        "lst=[1,2,3,4,[1,3,5,7],\"Tiger\",\"cat\",\"dog\",34.1]\r\n"
      ],
      "execution_count": 1,
      "outputs": []
    },
    {
      "cell_type": "code",
      "metadata": {
        "colab": {
          "base_uri": "https://localhost:8080/"
        },
        "id": "Il6HoeiCBmHy",
        "outputId": "55fb6212-bfa6-440c-99e8-74f028ec9378"
      },
      "source": [
        "lst[4][2]"
      ],
      "execution_count": 2,
      "outputs": [
        {
          "output_type": "execute_result",
          "data": {
            "text/plain": [
              "5"
            ]
          },
          "metadata": {
            "tags": []
          },
          "execution_count": 2
        }
      ]
    },
    {
      "cell_type": "code",
      "metadata": {
        "id": "tvB7dsNABu8u"
      },
      "source": [
        "lst.append(\"grass\")"
      ],
      "execution_count": 8,
      "outputs": []
    },
    {
      "cell_type": "code",
      "metadata": {
        "colab": {
          "base_uri": "https://localhost:8080/"
        },
        "id": "_yqSJAhjCUqO",
        "outputId": "e1bf170e-98bf-4e06-d399-b86dbc5326ee"
      },
      "source": [
        "lst"
      ],
      "execution_count": 9,
      "outputs": [
        {
          "output_type": "execute_result",
          "data": {
            "text/plain": [
              "[1,\n",
              " 2,\n",
              " 3,\n",
              " 4,\n",
              " [1, 3, 5, 7],\n",
              " 'Tiger',\n",
              " 'cat',\n",
              " 'dog',\n",
              " 34.1,\n",
              " 'grass',\n",
              " 'grass',\n",
              " 'grass',\n",
              " 'grass']"
            ]
          },
          "metadata": {
            "tags": []
          },
          "execution_count": 9
        }
      ]
    },
    {
      "cell_type": "code",
      "metadata": {
        "id": "ir2H7kYuCbFl"
      },
      "source": [
        "lst.insert(4,\"toys\")"
      ],
      "execution_count": 10,
      "outputs": []
    },
    {
      "cell_type": "code",
      "metadata": {
        "colab": {
          "base_uri": "https://localhost:8080/"
        },
        "id": "SdBkjPEpCxAi",
        "outputId": "31849b49-ce44-4010-e50b-b8ae26b3a343"
      },
      "source": [
        "lst"
      ],
      "execution_count": 12,
      "outputs": [
        {
          "output_type": "execute_result",
          "data": {
            "text/plain": [
              "[1,\n",
              " 2,\n",
              " 3,\n",
              " 4,\n",
              " 'toys',\n",
              " [1, 3, 5, 7],\n",
              " 'Tiger',\n",
              " 'cat',\n",
              " 'dog',\n",
              " 34.1,\n",
              " 'grass',\n",
              " 'grass',\n",
              " 'grass',\n",
              " 'grass']"
            ]
          },
          "metadata": {
            "tags": []
          },
          "execution_count": 12
        }
      ]
    },
    {
      "cell_type": "code",
      "metadata": {
        "colab": {
          "base_uri": "https://localhost:8080/"
        },
        "id": "V8NCvmsqC0HB",
        "outputId": "d80c58c9-a864-4796-f866-9536a641d0fb"
      },
      "source": [
        "lst.count('grass')"
      ],
      "execution_count": 17,
      "outputs": [
        {
          "output_type": "execute_result",
          "data": {
            "text/plain": [
              "4"
            ]
          },
          "metadata": {
            "tags": []
          },
          "execution_count": 17
        }
      ]
    },
    {
      "cell_type": "code",
      "metadata": {
        "id": "P7LA17PtV0IE"
      },
      "source": [
        "lst.remove(4)"
      ],
      "execution_count": 18,
      "outputs": []
    },
    {
      "cell_type": "code",
      "metadata": {
        "colab": {
          "base_uri": "https://localhost:8080/"
        },
        "id": "haL7FliyWAMx",
        "outputId": "a65f4174-26e4-4f51-ee8b-a26dc13ba3a1"
      },
      "source": [
        "lst"
      ],
      "execution_count": 19,
      "outputs": [
        {
          "output_type": "execute_result",
          "data": {
            "text/plain": [
              "[1,\n",
              " 2,\n",
              " 3,\n",
              " 'toys',\n",
              " [1, 3, 5, 7],\n",
              " 'Tiger',\n",
              " 'cat',\n",
              " 'dog',\n",
              " 34.1,\n",
              " 'grass',\n",
              " 'grass',\n",
              " 'grass',\n",
              " 'grass']"
            ]
          },
          "metadata": {
            "tags": []
          },
          "execution_count": 19
        }
      ]
    },
    {
      "cell_type": "code",
      "metadata": {
        "id": "slH23wvfWUoe"
      },
      "source": [
        "dict={1:\"one\",2:\"two\",3:\"three\",4:\"four\"}"
      ],
      "execution_count": 20,
      "outputs": []
    },
    {
      "cell_type": "code",
      "metadata": {
        "id": "SSPKiftSWk7K"
      },
      "source": [
        "dict.clear()"
      ],
      "execution_count": 21,
      "outputs": []
    },
    {
      "cell_type": "code",
      "metadata": {
        "colab": {
          "base_uri": "https://localhost:8080/"
        },
        "id": "HnkTzXwxWn0M",
        "outputId": "0bb54eca-2fd5-40e0-b0e4-bc2c7a5f9aad"
      },
      "source": [
        "dict"
      ],
      "execution_count": 22,
      "outputs": [
        {
          "output_type": "execute_result",
          "data": {
            "text/plain": [
              "{}"
            ]
          },
          "metadata": {
            "tags": []
          },
          "execution_count": 22
        }
      ]
    },
    {
      "cell_type": "code",
      "metadata": {
        "id": "5RszeCWoWpvc"
      },
      "source": [
        "new=dict.copy()"
      ],
      "execution_count": 26,
      "outputs": []
    },
    {
      "cell_type": "code",
      "metadata": {
        "colab": {
          "base_uri": "https://localhost:8080/"
        },
        "id": "LfHIfgYFW1wC",
        "outputId": "6d642461-6de6-4c10-d828-70c38bcf0cee"
      },
      "source": [
        "print(new)"
      ],
      "execution_count": 27,
      "outputs": [
        {
          "output_type": "stream",
          "text": [
            "{}\n"
          ],
          "name": "stdout"
        }
      ]
    },
    {
      "cell_type": "markdown",
      "metadata": {
        "id": "14_Tx0HMXA7n"
      },
      "source": [
        "keys={'a','e','i','o','u'}\r\n",
        "vowels=dict.fromkeys(keys)\r\n",
        "print(vowels)"
      ]
    },
    {
      "cell_type": "code",
      "metadata": {
        "colab": {
          "base_uri": "https://localhost:8080/"
        },
        "id": "ztnjievfXpCH",
        "outputId": "5ceac33b-3c76-4fe7-be3b-f003c1ac034c"
      },
      "source": [
        "\r\n",
        "sales = { 'apple': 2, 'orange': 3, 'grapes': 4 }\r\n",
        "\r\n",
        "element = sales.pop('apple')\r\n",
        "print('The popped element is:', element)\r\n",
        "print('The dictionary is:', sales)"
      ],
      "execution_count": 34,
      "outputs": [
        {
          "output_type": "stream",
          "text": [
            "The popped element is: 2\n",
            "The dictionary is: {'orange': 3, 'grapes': 4}\n"
          ],
          "name": "stdout"
        }
      ]
    },
    {
      "cell_type": "code",
      "metadata": {
        "colab": {
          "base_uri": "https://localhost:8080/"
        },
        "id": "j0CqJkBhYjDp",
        "outputId": "c20652d1-71c1-4df5-9074-be2671890a46"
      },
      "source": [
        "d={1:'cat',2:'dog',3:'rat'}\r\n",
        "d1={2:'chowmein'}\r\n",
        "d.update(d1)\r\n",
        "print(d)"
      ],
      "execution_count": 35,
      "outputs": [
        {
          "output_type": "stream",
          "text": [
            "{1: 'cat', 2: 'chowmein', 3: 'rat'}\n"
          ],
          "name": "stdout"
        }
      ]
    }
  ]
}